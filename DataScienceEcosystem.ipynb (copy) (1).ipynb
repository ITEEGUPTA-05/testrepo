{
  "metadata": {
    "kernelspec": {
      "name": "python",
      "display_name": "Python (Pyodide)",
      "language": "python"
    },
    "language_info": {
      "codemirror_mode": {
        "name": "python",
        "version": 3
      },
      "file_extension": ".py",
      "mimetype": "text/x-python",
      "name": "python",
      "nbconvert_exporter": "python",
      "pygments_lexer": "ipython3",
      "version": "3.8"
    }
  },
  "nbformat_minor": 4,
  "nbformat": 4,
  "cells": [
    {
      "cell_type": "markdown",
      "source": "# Data Science Tools and Ecosystem",
      "metadata": {}
    },
    {
      "cell_type": "markdown",
      "source": "**INTRODUCTION**\n\nIn this notebook, data science tools and ecosystem are summarized.",
      "metadata": {},
      "attachments": {}
    },
    {
      "cell_type": "markdown",
      "source": "**Objectives**\n\n- Introduction to Data Science\n- Tools of Data science\n- List of popular languages for Data Science\n- Data Science Libraries\n- Arithmetic Expression usning Jupyter Notebook",
      "metadata": {}
    },
    {
      "cell_type": "markdown",
      "source": "## Data Science Tools and Ecosystem\n\nA data scientist analyze data and derive conclusions with the help of various data science tools.A data scientist’s toolkit consists of many tools as discussed below in this notebook.\n\nTools of data science falls in three categories which are as below:\n\n1. Open source tools\n\n2. Commercial tools\n\n3. Cloud based tools\n      \nThe increasing volume and complexity of enterprise data, and its central role in decision-making and strategic planning, are driving organizations to invest in the people, processes and technologies they need to gain valuable business insights from their data assets. That includes a variety of tools commonly used in data science applications.\n   Here's a rundown of some data science tools that may be able to aid one in the analytics process:\n   \n**Apache Spark** :Apache Spark is an open source data processing and analytics engine that can handle large amounts of data.\n\n**Julia** :Julia is an open source programming language used for numerical computing, as well as machine learning and other kinds of data science applications.\n\n**Jupyter Notebook** :An open source web application, Jupyter Notebook enables interactive collaboration among data scientists, data engineers, mathematicians, researchers and other users. It's a computational notebook tool that can be used to create, edit and share code, as well as explanatory text, images and other information.\n\n**Keras**\n\n**Metlab**\n\n**Matplotlib** \n\nand many more\n\n**Data Science Task Categories are** : Data Management, Data Integration and Transformation, Data Visualization, Model Building, Model Deployment, and Model Monitoring and Assessment. Data Science Tasks are supported by Data Asset Management, Code Asset Management, Execution Environments, and Development Environments.",
      "metadata": {}
    },
    {
      "cell_type": "markdown",
      "source": "**Data Science Languages**\n\nSome of the popular languages that Data Scientists use are:\n\n1. Python\n2. R\n3. SQL\n   \nother languages like Java, Scala, C++, JavaScript, and Julia",
      "metadata": {}
    },
    {
      "cell_type": "markdown",
      "source": "**Data Science Libraries** \n\nLibraries are a collection of functions and methods that allow you to perform many actions without writing the code.Some of the commonly used libraries used by Data Scientists include:\n\n1. Pandas\n2. NumPy\n3. Matplotlib\n4. Seaborn\n5. Scikit-learn, etc",
      "metadata": {}
    },
    {
      "cell_type": "markdown",
      "source": "**Data Science Tools**: Listing three development environment open source tools used in data science.\n\n|**Data Science Tools**|\r\n| --------------------  \r\nJupyter Notebook|\n| Apache Zeppelin|\n| RStudio|0|400|",
      "metadata": {}
    },
    {
      "cell_type": "markdown",
      "source": "## Arithmetic Expression usning Jupyter Notebook\n### Below are a few examples of evaluating arithmetic expressions in Python\n",
      "metadata": {}
    },
    {
      "cell_type": "markdown",
      "source": "This a simple arithmetic expression to mutiply then add integers\ne.g.",
      "metadata": {}
    },
    {
      "cell_type": "code",
      "source": "(3*4)+5",
      "metadata": {
        "trusted": true
      },
      "outputs": [
        {
          "execution_count": 23,
          "output_type": "execute_result",
          "data": {
            "text/plain": "17"
          },
          "metadata": {}
        }
      ],
      "execution_count": 23
    },
    {
      "cell_type": "markdown",
      "source": "## Convert minutes to hours\n\nThis will convert 200 minutes to hours by diving by 60\n",
      "metadata": {}
    },
    {
      "cell_type": "code",
      "source": "200/60",
      "metadata": {
        "trusted": true
      },
      "outputs": [
        {
          "execution_count": 25,
          "output_type": "execute_result",
          "data": {
            "text/plain": "3.3333333333333335"
          },
          "metadata": {}
        }
      ],
      "execution_count": 25
    },
    {
      "cell_type": "markdown",
      "source": "## Author\nItee Gupta",
      "metadata": {}
    }
  ]
}